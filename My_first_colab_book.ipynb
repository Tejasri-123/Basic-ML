{
  "nbformat": 4,
  "nbformat_minor": 0,
  "metadata": {
    "colab": {
      "name": "My first colab book.ipynb",
      "provenance": [],
      "authorship_tag": "ABX9TyN5/n+gdGduu+bUc4syvifZ",
      "include_colab_link": true
    },
    "kernelspec": {
      "name": "python3",
      "display_name": "Python 3"
    },
    "language_info": {
      "name": "python"
    }
  },
  "cells": [
    {
      "cell_type": "markdown",
      "metadata": {
        "id": "view-in-github",
        "colab_type": "text"
      },
      "source": [
        "<a href=\"https://colab.research.google.com/github/Tejasri-123/Basic-ML/blob/main/My_first_colab_book.ipynb\" target=\"_parent\"><img src=\"https://colab.research.google.com/assets/colab-badge.svg\" alt=\"Open In Colab\"/></a>"
      ]
    },
    {
      "cell_type": "markdown",
      "metadata": {
        "id": "2A_dcJxQlOp_"
      },
      "source": [
        "# Armstrong number"
      ]
    },
    {
      "cell_type": "markdown",
      "metadata": {
        "id": "1OBD24wymQ8u"
      },
      "source": [
        "In this we have to find the given number is Armstrong or not?   \n",
        "Armstrong number--addition of each digit in the given number when each digit is raised to the number of digits in the number"
      ]
    },
    {
      "cell_type": "code",
      "metadata": {
        "colab": {
          "base_uri": "https://localhost:8080/"
        },
        "id": "h_RorbJcoH9A",
        "outputId": "3923a687-c688-40a4-edd4-459581c978f4"
      },
      "source": [
        "a=input()\n",
        "b=int(a)\n",
        "num=b\n",
        "sum=0\n",
        "while(b>0):\n",
        "  c=b%10\n",
        "  b=b//10\n",
        "  sum=sum+c**(len(a))\n",
        "if(sum==num):\n",
        "  print(\"Armstrong\")\n",
        "else:\n",
        "  print(\"Not an Armstrong\")"
      ],
      "execution_count": 5,
      "outputs": [
        {
          "output_type": "stream",
          "text": [
            "153\n",
            "Armstrong\n"
          ],
          "name": "stdout"
        }
      ]
    },
    {
      "cell_type": "markdown",
      "metadata": {
        "id": "MtIZDeb3pfIH"
      },
      "source": [
        "# sum of first N even numbers"
      ]
    },
    {
      "cell_type": "markdown",
      "metadata": {
        "id": "nVVql6F7qsbH"
      },
      "source": [
        "In this we have to find sum of first N even numbers"
      ]
    },
    {
      "cell_type": "code",
      "metadata": {
        "colab": {
          "base_uri": "https://localhost:8080/"
        },
        "id": "DgOnb2JdqYJl",
        "outputId": "e2980820-6918-41b1-a97d-4aaac03ee6c6"
      },
      "source": [
        "a=int(input())\n",
        "sum=0\n",
        "for i in range(0,2*a,2):\n",
        "  sum+=i\n",
        "print(sum)"
      ],
      "execution_count": 8,
      "outputs": [
        {
          "output_type": "stream",
          "text": [
            "4\n",
            "12\n"
          ],
          "name": "stdout"
        }
      ]
    },
    {
      "cell_type": "markdown",
      "metadata": {
        "id": "TbtUb3KvruFw"
      },
      "source": [
        ""
      ]
    },
    {
      "cell_type": "markdown",
      "metadata": {
        "id": "KMId9UqZrk7H"
      },
      "source": [
        "# Prime or Not"
      ]
    },
    {
      "cell_type": "markdown",
      "metadata": {
        "id": "g8pvKKgfrvRm"
      },
      "source": [
        "In this we have find wether the given number is prime or not"
      ]
    },
    {
      "cell_type": "code",
      "metadata": {
        "colab": {
          "base_uri": "https://localhost:8080/"
        },
        "id": "XteXhGHvs-R_",
        "outputId": "5c8e1cd6-c8a2-49b1-e775-f0b3da4ae958"
      },
      "source": [
        "a=int(input())\n",
        "if(a>1):\n",
        "  for i in range(2,a):\n",
        "    if a%i==0:\n",
        "      print(\"Not a Prime number\")\n",
        "      break\n",
        "  else:\n",
        "    print(\"Prime number\")\n",
        "else:\n",
        "  print(\"Not a Prime number\")"
      ],
      "execution_count": 10,
      "outputs": [
        {
          "output_type": "stream",
          "text": [
            "7\n",
            "Prime number\n"
          ],
          "name": "stdout"
        }
      ]
    }
  ]
}